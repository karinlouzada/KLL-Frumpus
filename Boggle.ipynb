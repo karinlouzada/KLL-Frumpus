{
 "cells": [
  {
   "cell_type": "code",
   "execution_count": 36,
   "metadata": {},
   "outputs": [
    {
     "name": "stdout",
     "output_type": "stream",
     "text": [
      "Welcome to my little game of Boggle.\n",
      "------------------------------------\n",
      "Press ENTER to throw the dice.\n",
      "You have 15 seconds to guess as many words as possible.\n",
      "\n",
      "R E N D\n",
      "M E I L\n",
      "M P V T\n",
      "Z A R A \n",
      "\n",
      "lend\n",
      "zint\n",
      "line\n",
      "rind\n",
      "tarp\n",
      "\n",
      "Times up!\n",
      "Uh oh: zint is not a word.\n",
      "Congats, your score is: 4!\n"
     ]
    }
   ],
   "source": [
    "import random\n",
    "import time\n",
    "\n",
    "def die():\n",
    "\n",
    "    d=[['R','I','F','O','B','X'],\\\n",
    "       ['I','F','E','H','E','Y'],\\\n",
    "       ['D','E','N','O','W','S'],\\\n",
    "      ['U','T','O','K','N','D'],\\\n",
    "      ['H','M','S','R','A','O'],\\\n",
    "      ['L','U','P','E','T','S'],\\\n",
    "      ['A','C','I','T','O','A'],\\\n",
    "       ['Y','L','G','K','U','E'],\\\n",
    "       ['Qu','B','M','J','O','A'],\\\n",
    "       ['E','H','I','S','P','N'],\\\n",
    "      ['V','E','T','I','G','N'],\\\n",
    "      ['B','A','L','I','Y','T'],\\\n",
    "      ['E','Z','A','V','N','D'],\\\n",
    "      ['R','A','L','E','S','C'],\\\n",
    "      ['U','W','I','L','R','G'],\\\n",
    "      ['P','A','C','E','M','D']]\n",
    "    c=['']*16\n",
    "    for i in range (16):\n",
    "        a=random.randint(0,5)\n",
    "        c[i]=d[i][a]\n",
    "    return c\n",
    "    \n",
    "def score():\n",
    "    global ans\n",
    "    s=0\n",
    "    \n",
    "    f = open('words_alpha.txt', 'r')\n",
    "    x = f.readlines()\n",
    "    f.close()\n",
    "\n",
    "    for i in range (len(ans)):\n",
    "        if ans[i]+'\\n' in x:\n",
    "            if len(ans[i]) <=4:\n",
    "                s=s+1\n",
    "            elif len(ans[i]) == 5:\n",
    "                s=s+2\n",
    "            elif len(ans[i]) == 6:\n",
    "                s=s+3 \n",
    "            elif len(ans[i]) == 7:\n",
    "                s=s+5\n",
    "            elif len(ans[i]) > 7:\n",
    "                s=s+11\n",
    "        else:\n",
    "            print('Uh oh: ' + ans[i]+' is not a word.')\n",
    "    print('Congats, your score is: '+str(s)+'!')\n",
    "\n",
    "\n",
    "print('Welcome to my little game of Boggle.')\n",
    "print('------------------------------------')\n",
    "print('Press ENTER to throw the dice.')\n",
    "x=15\n",
    "print('You have '+str(x)+' seconds to guess as many words as possible.')\n",
    "input()\n",
    "\n",
    "j = die()\n",
    "\n",
    "for i in range (len(j)):\n",
    "    if (i <=2) or (i>11) or (i>3 and i<=6) or (i>7 and i<=10):\n",
    "        print(j[i], end=' ')\n",
    "#     elif (i>3 and i<=6) or (i>7 and i<=10):\n",
    "#         print(j[i], end=' ')\n",
    "    elif i==3 or i==7 or i==11:\n",
    "        print(j[i])\n",
    "        \n",
    "print('')\n",
    "print('')\n",
    "\n",
    "ans=['']\n",
    "k=0\n",
    "\n",
    "t0=time.perf_counter()\n",
    "while time.perf_counter() <=t0+x:\n",
    "    answer=input()\n",
    "    ans.append(answer)\n",
    "del ans[0]\n",
    "print('')\n",
    "print('Time''s up!')\n",
    "l=score()"
   ]
  },
  {
   "cell_type": "code",
   "execution_count": null,
   "metadata": {},
   "outputs": [],
   "source": []
  },
  {
   "cell_type": "code",
   "execution_count": 30,
   "metadata": {},
   "outputs": [
    {
     "name": "stdout",
     "output_type": "stream",
     "text": [
      "*a\n",
      "*\n",
      "yay\n",
      "['a\\n', 'aa\\n', 'aaa\\n', 'aah\\n', 'aahed\\n']\n"
     ]
    }
   ],
   "source": []
  },
  {
   "cell_type": "code",
   "execution_count": null,
   "metadata": {},
   "outputs": [],
   "source": []
  },
  {
   "cell_type": "code",
   "execution_count": null,
   "metadata": {},
   "outputs": [],
   "source": []
  },
  {
   "cell_type": "code",
   "execution_count": null,
   "metadata": {},
   "outputs": [],
   "source": []
  },
  {
   "cell_type": "code",
   "execution_count": null,
   "metadata": {},
   "outputs": [],
   "source": []
  },
  {
   "cell_type": "code",
   "execution_count": null,
   "metadata": {},
   "outputs": [],
   "source": []
  },
  {
   "cell_type": "code",
   "execution_count": null,
   "metadata": {},
   "outputs": [],
   "source": []
  },
  {
   "cell_type": "code",
   "execution_count": null,
   "metadata": {},
   "outputs": [],
   "source": []
  },
  {
   "cell_type": "code",
   "execution_count": null,
   "metadata": {},
   "outputs": [],
   "source": []
  },
  {
   "cell_type": "code",
   "execution_count": null,
   "metadata": {},
   "outputs": [],
   "source": []
  },
  {
   "cell_type": "code",
   "execution_count": null,
   "metadata": {},
   "outputs": [],
   "source": []
  },
  {
   "cell_type": "code",
   "execution_count": null,
   "metadata": {},
   "outputs": [],
   "source": []
  },
  {
   "cell_type": "code",
   "execution_count": null,
   "metadata": {},
   "outputs": [],
   "source": []
  },
  {
   "cell_type": "code",
   "execution_count": null,
   "metadata": {},
   "outputs": [],
   "source": []
  },
  {
   "cell_type": "code",
   "execution_count": null,
   "metadata": {},
   "outputs": [],
   "source": []
  },
  {
   "cell_type": "code",
   "execution_count": null,
   "metadata": {},
   "outputs": [],
   "source": []
  },
  {
   "cell_type": "code",
   "execution_count": null,
   "metadata": {},
   "outputs": [],
   "source": []
  },
  {
   "cell_type": "code",
   "execution_count": null,
   "metadata": {},
   "outputs": [],
   "source": []
  }
 ],
 "metadata": {
  "kernelspec": {
   "display_name": "Python 3",
   "language": "python",
   "name": "python3"
  },
  "language_info": {
   "codemirror_mode": {
    "name": "ipython",
    "version": 3
   },
   "file_extension": ".py",
   "mimetype": "text/x-python",
   "name": "python",
   "nbconvert_exporter": "python",
   "pygments_lexer": "ipython3",
   "version": "3.7.6"
  }
 },
 "nbformat": 4,
 "nbformat_minor": 4
}
